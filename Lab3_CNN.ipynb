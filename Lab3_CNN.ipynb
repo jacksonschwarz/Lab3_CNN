{
 "cells": [
  {
   "cell_type": "markdown",
   "metadata": {},
   "source": [
    "# Assessment 1 answers\n",
    "1). The MSE of the linear regression is greater than that of a tuned neural network.<br>\n",
    "2). When adding 5 hidden layers with 128 neurons each, the MSE is reduced from the neural network example, but not from the linear regression example. "
   ]
  },
  {
   "cell_type": "code",
   "execution_count": 1,
   "metadata": {},
   "outputs": [],
   "source": [
    "import numpy as np\n",
    "import pandas as pd\n",
    "import matplotlib.pyplot as plt\n",
    "import tensorflow.keras as keras"
   ]
  },
  {
   "cell_type": "code",
   "execution_count": null,
   "metadata": {},
   "outputs": [],
   "source": []
  },
  {
   "cell_type": "code",
   "execution_count": 7,
   "metadata": {},
   "outputs": [
    {
     "name": "stderr",
     "output_type": "stream",
     "text": [
      "UsageError: Line magic function `%tensorflow_version` not found.\n"
     ]
    }
   ],
   "source": [
    "%tensorflow_version 1.x\n",
    "from keras.datasets import boston_housing"
   ]
  },
  {
   "cell_type": "code",
   "execution_count": 8,
   "metadata": {},
   "outputs": [
    {
     "name": "stdout",
     "output_type": "stream",
     "text": [
      ".. _boston_dataset:\n",
      "\n",
      "Boston house prices dataset\n",
      "---------------------------\n",
      "\n",
      "**Data Set Characteristics:**  \n",
      "\n",
      "    :Number of Instances: 506 \n",
      "\n",
      "    :Number of Attributes: 13 numeric/categorical predictive. Median Value (attribute 14) is usually the target.\n",
      "\n",
      "    :Attribute Information (in order):\n",
      "        - CRIM     per capita crime rate by town\n",
      "        - ZN       proportion of residential land zoned for lots over 25,000 sq.ft.\n",
      "        - INDUS    proportion of non-retail business acres per town\n",
      "        - CHAS     Charles River dummy variable (= 1 if tract bounds river; 0 otherwise)\n",
      "        - NOX      nitric oxides concentration (parts per 10 million)\n",
      "        - RM       average number of rooms per dwelling\n",
      "        - AGE      proportion of owner-occupied units built prior to 1940\n",
      "        - DIS      weighted distances to five Boston employment centres\n",
      "        - RAD      index of accessibility to radial highways\n",
      "        - TAX      full-value property-tax rate per $10,000\n",
      "        - PTRATIO  pupil-teacher ratio by town\n",
      "        - B        1000(Bk - 0.63)^2 where Bk is the proportion of blacks by town\n",
      "        - LSTAT    % lower status of the population\n",
      "        - MEDV     Median value of owner-occupied homes in $1000's\n",
      "\n",
      "    :Missing Attribute Values: None\n",
      "\n",
      "    :Creator: Harrison, D. and Rubinfeld, D.L.\n",
      "\n",
      "This is a copy of UCI ML housing dataset.\n",
      "https://archive.ics.uci.edu/ml/machine-learning-databases/housing/\n",
      "\n",
      "\n",
      "This dataset was taken from the StatLib library which is maintained at Carnegie Mellon University.\n",
      "\n",
      "The Boston house-price data of Harrison, D. and Rubinfeld, D.L. 'Hedonic\n",
      "prices and the demand for clean air', J. Environ. Economics & Management,\n",
      "vol.5, 81-102, 1978.   Used in Belsley, Kuh & Welsch, 'Regression diagnostics\n",
      "...', Wiley, 1980.   N.B. Various transformations are used in the table on\n",
      "pages 244-261 of the latter.\n",
      "\n",
      "The Boston house-price data has been used in many machine learning papers that address regression\n",
      "problems.   \n",
      "     \n",
      ".. topic:: References\n",
      "\n",
      "   - Belsley, Kuh & Welsch, 'Regression diagnostics: Identifying Influential Data and Sources of Collinearity', Wiley, 1980. 244-261.\n",
      "   - Quinlan,R. (1993). Combining Instance-Based and Model-Based Learning. In Proceedings on the Tenth International Conference of Machine Learning, 236-243, University of Massachusetts, Amherst. Morgan Kaufmann.\n",
      "\n"
     ]
    }
   ],
   "source": [
    "#scikit version has descriptions:\n",
    "from sklearn.datasets import load_boston\n",
    "boston = load_boston()\n",
    "print(boston.DESCR)"
   ]
  },
  {
   "cell_type": "code",
   "execution_count": 9,
   "metadata": {},
   "outputs": [
    {
     "name": "stdout",
     "output_type": "stream",
     "text": [
      "(506, 13)\n",
      "['CRIM' 'ZN' 'INDUS' 'CHAS' 'NOX' 'RM' 'AGE' 'DIS' 'RAD' 'TAX' 'PTRATIO'\n",
      " 'B' 'LSTAT']\n"
     ]
    },
    {
     "data": {
      "text/plain": [
       "(506,)"
      ]
     },
     "execution_count": 9,
     "metadata": {},
     "output_type": "execute_result"
    }
   ],
   "source": [
    "#Format: Dictionary \n",
    "# print(boston.keys())\n",
    "#Size it up\n",
    "print(boston.data.shape)\n",
    "#What are the 13 features?\n",
    "print(boston.feature_names)\n",
    "\n",
    "boston.target.shape"
   ]
  },
  {
   "cell_type": "code",
   "execution_count": 10,
   "metadata": {},
   "outputs": [
    {
     "data": {
      "text/html": [
       "<div>\n",
       "<style scoped>\n",
       "    .dataframe tbody tr th:only-of-type {\n",
       "        vertical-align: middle;\n",
       "    }\n",
       "\n",
       "    .dataframe tbody tr th {\n",
       "        vertical-align: top;\n",
       "    }\n",
       "\n",
       "    .dataframe thead th {\n",
       "        text-align: right;\n",
       "    }\n",
       "</style>\n",
       "<table border=\"1\" class=\"dataframe\">\n",
       "  <thead>\n",
       "    <tr style=\"text-align: right;\">\n",
       "      <th></th>\n",
       "      <th>0</th>\n",
       "      <th>1</th>\n",
       "      <th>2</th>\n",
       "      <th>3</th>\n",
       "      <th>4</th>\n",
       "      <th>5</th>\n",
       "      <th>6</th>\n",
       "      <th>7</th>\n",
       "      <th>8</th>\n",
       "      <th>9</th>\n",
       "      <th>10</th>\n",
       "      <th>11</th>\n",
       "      <th>12</th>\n",
       "    </tr>\n",
       "  </thead>\n",
       "  <tbody>\n",
       "    <tr>\n",
       "      <th>count</th>\n",
       "      <td>506.000000</td>\n",
       "      <td>506.000000</td>\n",
       "      <td>506.000000</td>\n",
       "      <td>506.000000</td>\n",
       "      <td>506.000000</td>\n",
       "      <td>506.000000</td>\n",
       "      <td>506.000000</td>\n",
       "      <td>506.000000</td>\n",
       "      <td>506.000000</td>\n",
       "      <td>506.000000</td>\n",
       "      <td>506.000000</td>\n",
       "      <td>506.000000</td>\n",
       "      <td>506.000000</td>\n",
       "    </tr>\n",
       "    <tr>\n",
       "      <th>mean</th>\n",
       "      <td>3.613524</td>\n",
       "      <td>11.363636</td>\n",
       "      <td>11.136779</td>\n",
       "      <td>0.069170</td>\n",
       "      <td>0.554695</td>\n",
       "      <td>6.284634</td>\n",
       "      <td>68.574901</td>\n",
       "      <td>3.795043</td>\n",
       "      <td>9.549407</td>\n",
       "      <td>408.237154</td>\n",
       "      <td>18.455534</td>\n",
       "      <td>356.674032</td>\n",
       "      <td>12.653063</td>\n",
       "    </tr>\n",
       "    <tr>\n",
       "      <th>std</th>\n",
       "      <td>8.601545</td>\n",
       "      <td>23.322453</td>\n",
       "      <td>6.860353</td>\n",
       "      <td>0.253994</td>\n",
       "      <td>0.115878</td>\n",
       "      <td>0.702617</td>\n",
       "      <td>28.148861</td>\n",
       "      <td>2.105710</td>\n",
       "      <td>8.707259</td>\n",
       "      <td>168.537116</td>\n",
       "      <td>2.164946</td>\n",
       "      <td>91.294864</td>\n",
       "      <td>7.141062</td>\n",
       "    </tr>\n",
       "    <tr>\n",
       "      <th>min</th>\n",
       "      <td>0.006320</td>\n",
       "      <td>0.000000</td>\n",
       "      <td>0.460000</td>\n",
       "      <td>0.000000</td>\n",
       "      <td>0.385000</td>\n",
       "      <td>3.561000</td>\n",
       "      <td>2.900000</td>\n",
       "      <td>1.129600</td>\n",
       "      <td>1.000000</td>\n",
       "      <td>187.000000</td>\n",
       "      <td>12.600000</td>\n",
       "      <td>0.320000</td>\n",
       "      <td>1.730000</td>\n",
       "    </tr>\n",
       "    <tr>\n",
       "      <th>25%</th>\n",
       "      <td>0.082045</td>\n",
       "      <td>0.000000</td>\n",
       "      <td>5.190000</td>\n",
       "      <td>0.000000</td>\n",
       "      <td>0.449000</td>\n",
       "      <td>5.885500</td>\n",
       "      <td>45.025000</td>\n",
       "      <td>2.100175</td>\n",
       "      <td>4.000000</td>\n",
       "      <td>279.000000</td>\n",
       "      <td>17.400000</td>\n",
       "      <td>375.377500</td>\n",
       "      <td>6.950000</td>\n",
       "    </tr>\n",
       "    <tr>\n",
       "      <th>50%</th>\n",
       "      <td>0.256510</td>\n",
       "      <td>0.000000</td>\n",
       "      <td>9.690000</td>\n",
       "      <td>0.000000</td>\n",
       "      <td>0.538000</td>\n",
       "      <td>6.208500</td>\n",
       "      <td>77.500000</td>\n",
       "      <td>3.207450</td>\n",
       "      <td>5.000000</td>\n",
       "      <td>330.000000</td>\n",
       "      <td>19.050000</td>\n",
       "      <td>391.440000</td>\n",
       "      <td>11.360000</td>\n",
       "    </tr>\n",
       "    <tr>\n",
       "      <th>75%</th>\n",
       "      <td>3.677083</td>\n",
       "      <td>12.500000</td>\n",
       "      <td>18.100000</td>\n",
       "      <td>0.000000</td>\n",
       "      <td>0.624000</td>\n",
       "      <td>6.623500</td>\n",
       "      <td>94.075000</td>\n",
       "      <td>5.188425</td>\n",
       "      <td>24.000000</td>\n",
       "      <td>666.000000</td>\n",
       "      <td>20.200000</td>\n",
       "      <td>396.225000</td>\n",
       "      <td>16.955000</td>\n",
       "    </tr>\n",
       "    <tr>\n",
       "      <th>max</th>\n",
       "      <td>88.976200</td>\n",
       "      <td>100.000000</td>\n",
       "      <td>27.740000</td>\n",
       "      <td>1.000000</td>\n",
       "      <td>0.871000</td>\n",
       "      <td>8.780000</td>\n",
       "      <td>100.000000</td>\n",
       "      <td>12.126500</td>\n",
       "      <td>24.000000</td>\n",
       "      <td>711.000000</td>\n",
       "      <td>22.000000</td>\n",
       "      <td>396.900000</td>\n",
       "      <td>37.970000</td>\n",
       "    </tr>\n",
       "  </tbody>\n",
       "</table>\n",
       "</div>"
      ],
      "text/plain": [
       "               0           1           2           3           4           5   \\\n",
       "count  506.000000  506.000000  506.000000  506.000000  506.000000  506.000000   \n",
       "mean     3.613524   11.363636   11.136779    0.069170    0.554695    6.284634   \n",
       "std      8.601545   23.322453    6.860353    0.253994    0.115878    0.702617   \n",
       "min      0.006320    0.000000    0.460000    0.000000    0.385000    3.561000   \n",
       "25%      0.082045    0.000000    5.190000    0.000000    0.449000    5.885500   \n",
       "50%      0.256510    0.000000    9.690000    0.000000    0.538000    6.208500   \n",
       "75%      3.677083   12.500000   18.100000    0.000000    0.624000    6.623500   \n",
       "max     88.976200  100.000000   27.740000    1.000000    0.871000    8.780000   \n",
       "\n",
       "               6           7           8           9           10          11  \\\n",
       "count  506.000000  506.000000  506.000000  506.000000  506.000000  506.000000   \n",
       "mean    68.574901    3.795043    9.549407  408.237154   18.455534  356.674032   \n",
       "std     28.148861    2.105710    8.707259  168.537116    2.164946   91.294864   \n",
       "min      2.900000    1.129600    1.000000  187.000000   12.600000    0.320000   \n",
       "25%     45.025000    2.100175    4.000000  279.000000   17.400000  375.377500   \n",
       "50%     77.500000    3.207450    5.000000  330.000000   19.050000  391.440000   \n",
       "75%     94.075000    5.188425   24.000000  666.000000   20.200000  396.225000   \n",
       "max    100.000000   12.126500   24.000000  711.000000   22.000000  396.900000   \n",
       "\n",
       "               12  \n",
       "count  506.000000  \n",
       "mean    12.653063  \n",
       "std      7.141062  \n",
       "min      1.730000  \n",
       "25%      6.950000  \n",
       "50%     11.360000  \n",
       "75%     16.955000  \n",
       "max     37.970000  "
      ]
     },
     "execution_count": 10,
     "metadata": {},
     "output_type": "execute_result"
    }
   ],
   "source": [
    "#info on the data.\n",
    "#pandas are pretty. \n",
    "df = pd.DataFrame(boston.data)\n",
    "df.describe()"
   ]
  },
  {
   "cell_type": "code",
   "execution_count": 11,
   "metadata": {},
   "outputs": [
    {
     "name": "stdout",
     "output_type": "stream",
     "text": [
      "(506, 13) (506,)\n"
     ]
    },
    {
     "data": {
      "text/html": [
       "<div>\n",
       "<style scoped>\n",
       "    .dataframe tbody tr th:only-of-type {\n",
       "        vertical-align: middle;\n",
       "    }\n",
       "\n",
       "    .dataframe tbody tr th {\n",
       "        vertical-align: top;\n",
       "    }\n",
       "\n",
       "    .dataframe thead th {\n",
       "        text-align: right;\n",
       "    }\n",
       "</style>\n",
       "<table border=\"1\" class=\"dataframe\">\n",
       "  <thead>\n",
       "    <tr style=\"text-align: right;\">\n",
       "      <th></th>\n",
       "      <th>0</th>\n",
       "      <th>1</th>\n",
       "      <th>2</th>\n",
       "      <th>3</th>\n",
       "      <th>4</th>\n",
       "      <th>5</th>\n",
       "      <th>6</th>\n",
       "      <th>7</th>\n",
       "      <th>8</th>\n",
       "      <th>9</th>\n",
       "      <th>10</th>\n",
       "      <th>11</th>\n",
       "      <th>12</th>\n",
       "    </tr>\n",
       "  </thead>\n",
       "  <tbody>\n",
       "    <tr>\n",
       "      <th>count</th>\n",
       "      <td>5.060000e+02</td>\n",
       "      <td>5.060000e+02</td>\n",
       "      <td>5.060000e+02</td>\n",
       "      <td>5.060000e+02</td>\n",
       "      <td>5.060000e+02</td>\n",
       "      <td>5.060000e+02</td>\n",
       "      <td>5.060000e+02</td>\n",
       "      <td>5.060000e+02</td>\n",
       "      <td>506.000000</td>\n",
       "      <td>5.060000e+02</td>\n",
       "      <td>5.060000e+02</td>\n",
       "      <td>5.060000e+02</td>\n",
       "      <td>5.060000e+02</td>\n",
       "    </tr>\n",
       "    <tr>\n",
       "      <th>mean</th>\n",
       "      <td>-5.616939e-17</td>\n",
       "      <td>-3.510587e-18</td>\n",
       "      <td>-3.117401e-15</td>\n",
       "      <td>-2.808469e-17</td>\n",
       "      <td>2.724215e-15</td>\n",
       "      <td>-1.147260e-14</td>\n",
       "      <td>-1.151472e-15</td>\n",
       "      <td>7.582867e-16</td>\n",
       "      <td>0.000000</td>\n",
       "      <td>5.616939e-17</td>\n",
       "      <td>-1.022283e-14</td>\n",
       "      <td>8.607958e-15</td>\n",
       "      <td>-5.897786e-16</td>\n",
       "    </tr>\n",
       "    <tr>\n",
       "      <th>std</th>\n",
       "      <td>1.000990e+00</td>\n",
       "      <td>1.000990e+00</td>\n",
       "      <td>1.000990e+00</td>\n",
       "      <td>1.000990e+00</td>\n",
       "      <td>1.000990e+00</td>\n",
       "      <td>1.000990e+00</td>\n",
       "      <td>1.000990e+00</td>\n",
       "      <td>1.000990e+00</td>\n",
       "      <td>1.000990</td>\n",
       "      <td>1.000990e+00</td>\n",
       "      <td>1.000990e+00</td>\n",
       "      <td>1.000990e+00</td>\n",
       "      <td>1.000990e+00</td>\n",
       "    </tr>\n",
       "    <tr>\n",
       "      <th>min</th>\n",
       "      <td>-4.197819e-01</td>\n",
       "      <td>-4.877224e-01</td>\n",
       "      <td>-1.557842e+00</td>\n",
       "      <td>-2.725986e-01</td>\n",
       "      <td>-1.465882e+00</td>\n",
       "      <td>-3.880249e+00</td>\n",
       "      <td>-2.335437e+00</td>\n",
       "      <td>-1.267069e+00</td>\n",
       "      <td>-0.982843</td>\n",
       "      <td>-1.313990e+00</td>\n",
       "      <td>-2.707379e+00</td>\n",
       "      <td>-3.907193e+00</td>\n",
       "      <td>-1.531127e+00</td>\n",
       "    </tr>\n",
       "    <tr>\n",
       "      <th>25%</th>\n",
       "      <td>-4.109696e-01</td>\n",
       "      <td>-4.877224e-01</td>\n",
       "      <td>-8.676906e-01</td>\n",
       "      <td>-2.725986e-01</td>\n",
       "      <td>-9.130288e-01</td>\n",
       "      <td>-5.686303e-01</td>\n",
       "      <td>-8.374480e-01</td>\n",
       "      <td>-8.056878e-01</td>\n",
       "      <td>-0.637962</td>\n",
       "      <td>-7.675760e-01</td>\n",
       "      <td>-4.880391e-01</td>\n",
       "      <td>2.050715e-01</td>\n",
       "      <td>-7.994200e-01</td>\n",
       "    </tr>\n",
       "    <tr>\n",
       "      <th>50%</th>\n",
       "      <td>-3.906665e-01</td>\n",
       "      <td>-4.877224e-01</td>\n",
       "      <td>-2.110985e-01</td>\n",
       "      <td>-2.725986e-01</td>\n",
       "      <td>-1.442174e-01</td>\n",
       "      <td>-1.084655e-01</td>\n",
       "      <td>3.173816e-01</td>\n",
       "      <td>-2.793234e-01</td>\n",
       "      <td>-0.523001</td>\n",
       "      <td>-4.646726e-01</td>\n",
       "      <td>2.748590e-01</td>\n",
       "      <td>3.811865e-01</td>\n",
       "      <td>-1.812536e-01</td>\n",
       "    </tr>\n",
       "    <tr>\n",
       "      <th>75%</th>\n",
       "      <td>7.396560e-03</td>\n",
       "      <td>4.877224e-02</td>\n",
       "      <td>1.015999e+00</td>\n",
       "      <td>-2.725986e-01</td>\n",
       "      <td>5.986790e-01</td>\n",
       "      <td>4.827678e-01</td>\n",
       "      <td>9.067981e-01</td>\n",
       "      <td>6.623709e-01</td>\n",
       "      <td>1.661245</td>\n",
       "      <td>1.530926e+00</td>\n",
       "      <td>8.065758e-01</td>\n",
       "      <td>4.336510e-01</td>\n",
       "      <td>6.030188e-01</td>\n",
       "    </tr>\n",
       "    <tr>\n",
       "      <th>max</th>\n",
       "      <td>9.933931e+00</td>\n",
       "      <td>3.804234e+00</td>\n",
       "      <td>2.422565e+00</td>\n",
       "      <td>3.668398e+00</td>\n",
       "      <td>2.732346e+00</td>\n",
       "      <td>3.555044e+00</td>\n",
       "      <td>1.117494e+00</td>\n",
       "      <td>3.960518e+00</td>\n",
       "      <td>1.661245</td>\n",
       "      <td>1.798194e+00</td>\n",
       "      <td>1.638828e+00</td>\n",
       "      <td>4.410519e-01</td>\n",
       "      <td>3.548771e+00</td>\n",
       "    </tr>\n",
       "  </tbody>\n",
       "</table>\n",
       "</div>"
      ],
      "text/plain": [
       "                 0             1             2             3             4   \\\n",
       "count  5.060000e+02  5.060000e+02  5.060000e+02  5.060000e+02  5.060000e+02   \n",
       "mean  -5.616939e-17 -3.510587e-18 -3.117401e-15 -2.808469e-17  2.724215e-15   \n",
       "std    1.000990e+00  1.000990e+00  1.000990e+00  1.000990e+00  1.000990e+00   \n",
       "min   -4.197819e-01 -4.877224e-01 -1.557842e+00 -2.725986e-01 -1.465882e+00   \n",
       "25%   -4.109696e-01 -4.877224e-01 -8.676906e-01 -2.725986e-01 -9.130288e-01   \n",
       "50%   -3.906665e-01 -4.877224e-01 -2.110985e-01 -2.725986e-01 -1.442174e-01   \n",
       "75%    7.396560e-03  4.877224e-02  1.015999e+00 -2.725986e-01  5.986790e-01   \n",
       "max    9.933931e+00  3.804234e+00  2.422565e+00  3.668398e+00  2.732346e+00   \n",
       "\n",
       "                 5             6             7           8             9   \\\n",
       "count  5.060000e+02  5.060000e+02  5.060000e+02  506.000000  5.060000e+02   \n",
       "mean  -1.147260e-14 -1.151472e-15  7.582867e-16    0.000000  5.616939e-17   \n",
       "std    1.000990e+00  1.000990e+00  1.000990e+00    1.000990  1.000990e+00   \n",
       "min   -3.880249e+00 -2.335437e+00 -1.267069e+00   -0.982843 -1.313990e+00   \n",
       "25%   -5.686303e-01 -8.374480e-01 -8.056878e-01   -0.637962 -7.675760e-01   \n",
       "50%   -1.084655e-01  3.173816e-01 -2.793234e-01   -0.523001 -4.646726e-01   \n",
       "75%    4.827678e-01  9.067981e-01  6.623709e-01    1.661245  1.530926e+00   \n",
       "max    3.555044e+00  1.117494e+00  3.960518e+00    1.661245  1.798194e+00   \n",
       "\n",
       "                 10            11            12  \n",
       "count  5.060000e+02  5.060000e+02  5.060000e+02  \n",
       "mean  -1.022283e-14  8.607958e-15 -5.897786e-16  \n",
       "std    1.000990e+00  1.000990e+00  1.000990e+00  \n",
       "min   -2.707379e+00 -3.907193e+00 -1.531127e+00  \n",
       "25%   -4.880391e-01  2.050715e-01 -7.994200e-01  \n",
       "50%    2.748590e-01  3.811865e-01 -1.812536e-01  \n",
       "75%    8.065758e-01  4.336510e-01  6.030188e-01  \n",
       "max    1.638828e+00  4.410519e-01  3.548771e+00  "
      ]
     },
     "execution_count": 11,
     "metadata": {},
     "output_type": "execute_result"
    }
   ],
   "source": [
    "X = boston.data\n",
    "y = boston.target\n",
    "print(X.shape, y.shape)\n",
    "\n",
    "X -= X.mean(0)\n",
    "X /= X.std(0)\n",
    "\n",
    "df = pd.DataFrame(X)\n",
    "df.describe()\n"
   ]
  },
  {
   "cell_type": "code",
   "execution_count": 12,
   "metadata": {},
   "outputs": [
    {
     "name": "stdout",
     "output_type": "stream",
     "text": [
      "(404, 13) (404,)\n"
     ]
    }
   ],
   "source": [
    "from sklearn.model_selection import train_test_split\n",
    "Xtrain, Xtest, ytrain, ytest = train_test_split(X, y, random_state=42, train_size=0.8)\n",
    "\n",
    "print(Xtrain.shape, ytrain.shape)"
   ]
  },
  {
   "cell_type": "code",
   "execution_count": 13,
   "metadata": {},
   "outputs": [
    {
     "name": "stdout",
     "output_type": "stream",
     "text": [
      "Attributes:\n",
      " [[ 1.32780421 -0.48772236  1.01599907 -0.27259857  0.51229565 -1.39706929\n",
      "   1.02148094 -0.80543822  1.66124525  1.53092646  0.80657583 -0.07887794\n",
      "   1.7181012 ]\n",
      " [-0.34750602 -0.48772236 -0.43725801 -0.27259857 -0.14421743 -0.64200019\n",
      "  -0.42939039  0.33444943 -0.6379618  -0.6012761   1.17646583  0.42701755\n",
      "  -0.5863558 ]\n",
      " [-0.41648392  1.01446252 -0.74074945 -0.27259857 -1.00891427 -0.36134243\n",
      "  -1.61000138  1.35273767 -0.98284286 -0.61909395 -0.71922039  0.06113692\n",
      "  -0.67606702]] \n",
      " Prices:\n",
      " [12.  19.9 19.4]\n"
     ]
    }
   ],
   "source": [
    "print(\"Attributes:\\n\", Xtrain[:3], \"\\n Prices:\\n\", ytrain[:3])"
   ]
  },
  {
   "cell_type": "code",
   "execution_count": 34,
   "metadata": {},
   "outputs": [],
   "source": [
    "#Linear Regression\n",
    "\n",
    "from sklearn.linear_model import LinearRegression\n",
    "from sklearn.metrics import mean_squared_error, mean_absolute_error\n",
    "\n",
    "#SciKit Lin Reg using the train/test split:\n",
    "#1. Create a model\n",
    "#2. Train\n",
    "#3. Predict\n",
    "\n",
    "#ME\n",
    "model = LinearRegression(fit_intercept=True)\n",
    "model.fit(Xtrain, ytrain)\n",
    "y_model = model.predict(Xtest)\n"
   ]
  },
  {
   "cell_type": "code",
   "execution_count": 36,
   "metadata": {},
   "outputs": [
    {
     "name": "stdout",
     "output_type": "stream",
     "text": [
      "MSE Linear Regression: 24.29\n",
      "MAE Linear Regression: 3.19\n"
     ]
    },
    {
     "data": {
      "text/plain": [
       "Text(0.5, 1.0, 'Boston Housing True vs Predicted prices')"
      ]
     },
     "execution_count": 36,
     "metadata": {},
     "output_type": "execute_result"
    },
    {
     "data": {
      "image/png": "[encoded data removed]",
      "text/plain": [
       "<Figure size 432x288 with 1 Axes>"
      ]
     },
     "metadata": {
      "needs_background": "light"
     },
     "output_type": "display_data"
    }
   ],
   "source": [
    "#Calculate error and plot\n",
    "mse = mean_squared_error(ytest, y_model)\n",
    "mae = mean_absolute_error(ytest, y_model)\n",
    "print(\"MSE Linear Regression: %.2f\" % mse)\n",
    "print(\"MAE Linear Regression: %.2f\" % mae)\n",
    "\n",
    "#compare labels\n",
    "plt.scatter(ytest, y_model)\n",
    "plt.xlabel(\"Truth\")\n",
    "plt.ylabel(\"Predicted\")\n",
    "plt.title(\"Boston Housing True vs Predicted prices\")"
   ]
  },
  {
   "cell_type": "code",
   "execution_count": 16,
   "metadata": {},
   "outputs": [
    {
     "name": "stdout",
     "output_type": "stream",
     "text": [
      "Model intercept: 22.485268239316913\n",
      "Model slopes:     [-0.97149423  0.70155562  0.27675212  0.70653152 -1.99143043  3.11571836\n",
      " -0.17706021 -3.04577065  2.28278471 -1.79260468 -1.97995351  1.12649864\n",
      " -3.62814937]\n"
     ]
    }
   ],
   "source": [
    "# Model weights:\n",
    "print(\"Model intercept:\", model.intercept_)\n",
    "print(\"Model slopes:    \", model.coef_)"
   ]
  },
  {
   "cell_type": "code",
   "execution_count": 17,
   "metadata": {},
   "outputs": [],
   "source": [
    "from sklearn.pipeline import make_pipeline\n",
    "from sklearn.preprocessing import PolynomialFeatures\n",
    "#ME\n",
    "model = make_pipeline(PolynomialFeatures(2), LinearRegression(fit_intercept=True))"
   ]
  },
  {
   "cell_type": "code",
   "execution_count": 18,
   "metadata": {},
   "outputs": [
    {
     "name": "stdout",
     "output_type": "stream",
     "text": [
      "MSE Linear Regression: 14.25\n"
     ]
    },
    {
     "data": {
      "text/plain": [
       "Text(0.5, 1.0, 'Boston Housing True vs Predicted prices')"
      ]
     },
     "execution_count": 18,
     "metadata": {},
     "output_type": "execute_result"
    },
    {
     "data": {
      "image/png": "[encoded data removed]",
      "text/plain": [
       "<Figure size 432x288 with 1 Axes>"
      ]
     },
     "metadata": {
      "needs_background": "light"
     },
     "output_type": "display_data"
    }
   ],
   "source": [
    "#train and evaluate \n",
    "\n",
    "model.fit(Xtrain, ytrain)\n",
    "y_model = model.predict(Xtest)\n",
    "\n",
    "#Calculate error and plot\n",
    "mse = mean_squared_error(ytest, y_model)\n",
    "print(\"MSE Linear Regression: %.2f\" % mse)\n",
    "\n",
    "#compare labels\n",
    "plt.scatter(ytest, y_model)\n",
    "plt.xlabel(\"Truth\")\n",
    "plt.ylabel(\"Predicted\")\n",
    "plt.title(\"Boston Housing True vs Predicted prices\")"
   ]
  },
  {
   "cell_type": "code",
   "execution_count": 19,
   "metadata": {},
   "outputs": [
    {
     "name": "stderr",
     "output_type": "stream",
     "text": [
      "Using TensorFlow backend.\n"
     ]
    }
   ],
   "source": [
    "from keras import models\n",
    "from keras import layers\n",
    "\n",
    "from keras.models import Sequential\n",
    "from keras.layers import Dense\n",
    "from keras.wrappers.scikit_learn import KerasRegressor\n",
    "from sklearn.model_selection import cross_val_score\n",
    "from sklearn.model_selection import KFold\n",
    "from sklearn.preprocessing import StandardScaler\n",
    "from sklearn.pipeline import Pipeline"
   ]
  },
  {
   "cell_type": "code",
   "execution_count": 20,
   "metadata": {},
   "outputs": [],
   "source": [
    "# define model\n",
    "\n",
    "#Dense is a fully-connected NN: activation(dot(input, kernel) + bias)\n",
    "\n",
    "def ex_model():\n",
    "\t# Add layers in given order\n",
    "  model = Sequential() \n",
    "  #Seq: indicates we want to define the NN layer by layer;\n",
    "  #each layer stacks on top of the next. \n",
    "  #comes with fit,eval,predict. (and corresponding generators)\n",
    "  \n",
    "  model.add(Dense(13, input_shape=(Xtrain.shape[1],), activation='relu'))\n",
    "  #we only need input size for the first layer. After that, it will auto-fill.\n",
    "\n",
    "  model.add(Dense(1))\n",
    "  #no actications for the output layer. used for predicting a continous value.\n",
    "  # Compile model\n",
    "  model.compile(loss='mean_squared_error', optimizer='adam', metrics=['mae'])\n",
    "  return model\n"
   ]
  },
  {
   "cell_type": "code",
   "execution_count": 29,
   "metadata": {},
   "outputs": [
    {
     "name": "stdout",
     "output_type": "stream",
     "text": [
      "Epoch 1/20\n",
      "404/404 [==============================] - 2s 4ms/step - loss: 533.8841 - mae: 21.3547\n",
      "Epoch 2/20\n",
      "404/404 [==============================] - 1s 3ms/step - loss: 321.5730 - mae: 16.0975\n",
      "Epoch 3/20\n",
      "404/404 [==============================] - 1s 3ms/step - loss: 149.1968 - mae: 9.9407\n",
      "Epoch 4/20\n",
      "404/404 [==============================] - 1s 2ms/step - loss: 76.0539 - mae: 6.5941\n",
      "Epoch 5/20\n",
      "404/404 [==============================] - 1s 3ms/step - loss: 49.4227 - mae: 5.1408\n",
      "Epoch 6/20\n",
      "404/404 [==============================] - 1s 3ms/step - loss: 38.1626 - mae: 4.4720\n",
      "Epoch 7/20\n",
      "404/404 [==============================] - 1s 4ms/step - loss: 32.8650 - mae: 4.1047: 1s - loss: 18.18\n",
      "Epoch 8/20\n",
      "404/404 [==============================] - 1s 2ms/step - loss: 29.8777 - mae: 3.9260\n",
      "Epoch 9/20\n",
      "404/404 [==============================] - 1s 3ms/step - loss: 27.9486 - mae: 3.7999\n",
      "Epoch 10/20\n",
      "404/404 [==============================] - 2s 4ms/step - loss: 26.2881 - mae: 3.6960\n",
      "Epoch 11/20\n",
      "404/404 [==============================] - 2s 4ms/step - loss: 24.7488 - mae: 3.5677\n",
      "Epoch 12/20\n",
      "404/404 [==============================] - ETA: 0s - loss: 23.9689 - mae: 3.52 - 1s 2ms/step - loss: 23.4993 - mae: 3.5133\n",
      "Epoch 13/20\n",
      "404/404 [==============================] - 1s 3ms/step - loss: 22.3847 - mae: 3.4042\n",
      "Epoch 14/20\n",
      "404/404 [==============================] - 1s 2ms/step - loss: 21.3396 - mae: 3.3563\n",
      "Epoch 15/20\n",
      "404/404 [==============================] - 1s 2ms/step - loss: 20.6729 - mae: 3.3242\n",
      "Epoch 16/20\n",
      "404/404 [==============================] - 1s 2ms/step - loss: 19.7386 - mae: 3.2445\n",
      "Epoch 17/20\n",
      "404/404 [==============================] - 1s 2ms/step - loss: 19.0566 - mae: 3.1780\n",
      "Epoch 18/20\n",
      "404/404 [==============================] - 2s 5ms/step - loss: 18.1640 - mae: 3.1623\n",
      "Epoch 19/20\n",
      "404/404 [==============================] - 1s 3ms/step - loss: 17.6912 - mae: 3.0790\n",
      "Epoch 20/20\n",
      "404/404 [==============================] - 1s 2ms/step - loss: 17.1219 - mae: 3.0649: 0s - los\n",
      "MSE Keras example: 19.85\n"
     ]
    },
    {
     "data": {
      "text/plain": [
       "Text(0.5, 1.0, 'Boston Housing True vs Predicted prices')"
      ]
     },
     "execution_count": 29,
     "metadata": {},
     "output_type": "execute_result"
    },
    {
     "data": {
      "image/png": "[encoded data removed]",
      "text/plain": [
       "<Figure size 432x288 with 1 Axes>"
      ]
     },
     "metadata": {
      "needs_background": "light"
     },
     "output_type": "display_data"
    }
   ],
   "source": [
    "model = ex_model()\n",
    "ne = 20 #number of train loops 50% increase in epochs\n",
    "model.fit(Xtrain, ytrain, epochs=ne, batch_size=1, verbose=1)\n",
    "#see performance on test data using trained model\n",
    "y_nn = model.predict(Xtest)\n",
    "\n",
    "#Calculate error and plot\n",
    "mse = mean_squared_error(ytest, y_nn)\n",
    "print(\"MSE Keras example: %.2f\" % mse)\n",
    "\n",
    "#compare labels\n",
    "plt.scatter(ytest, y_model)\n",
    "plt.xlabel(\"Truth\")\n",
    "plt.ylabel(\"Predicted\")\n",
    "plt.title(\"Boston Housing True vs Predicted prices\")"
   ]
  },
  {
   "cell_type": "code",
   "execution_count": 22,
   "metadata": {},
   "outputs": [],
   "source": [
    "#alternative approach with cross-validation\n",
    "#model object\n",
    "# estimator = KerasRegressor(build_fn=ex_model, epochs=100, batch_size=5, verbose=1)\n",
    "# \n",
    "# cvf = KFold(n_splits=2)\n",
    "# results = cross_val_score(estimator, X, y, cv=cvf)\n",
    "# print(\"Results: %.2f (+/-%.2f) MSE\" % (results.mean(), results.std()))\n",
    "\n",
    "# Results: -88.81 (46.90) MSE"
   ]
  },
  {
   "cell_type": "code",
   "execution_count": 23,
   "metadata": {},
   "outputs": [
    {
     "name": "stdout",
     "output_type": "stream",
     "text": [
      "Weights size: \n",
      " (13, 1)\n",
      "Weights: \n",
      " [[ 1.5146264 ]\n",
      " [-0.32914343]\n",
      " [ 0.9869111 ]\n",
      " [-0.24492453]\n",
      " [-0.06555422]\n",
      " [ 1.4089354 ]\n",
      " [ 1.2235569 ]\n",
      " [ 0.9847275 ]\n",
      " [ 1.1426797 ]\n",
      " [ 0.9184187 ]\n",
      " [-0.5684756 ]\n",
      " [-0.87922686]\n",
      " [ 1.4094754 ]] \n",
      " Bias: \n",
      " [1.0790472]\n"
     ]
    }
   ],
   "source": [
    "weights, bias = model.layers[1].get_weights()\n",
    "\n",
    "print('Weights size: \\n', weights.shape)\n",
    "      \n",
    "print('Weights: \\n', weights,'\\n Bias: \\n' ,bias)"
   ]
  },
  {
   "cell_type": "code",
   "execution_count": 41,
   "metadata": {},
   "outputs": [
    {
     "name": "stdout",
     "output_type": "stream",
     "text": [
      "Epoch 1/10\n",
      "404/404 [==============================] - 12s 31ms/step - loss: 598.2871 - mae: 22.6133\n",
      "Epoch 2/10\n",
      "404/404 [==============================] - 6s 15ms/step - loss: 581.6572 - mae: 22.2453\n",
      "Epoch 3/10\n",
      "404/404 [==============================] - 6s 15ms/step - loss: 565.4316 - mae: 21.8750\n",
      "Epoch 4/10\n",
      "404/404 [==============================] - 6s 15ms/step - loss: 549.5937 - mae: 21.5113\n",
      "Epoch 5/10\n",
      "404/404 [==============================] - 6s 15ms/step - loss: 534.0960 - mae: 21.1506\n",
      "Epoch 6/10\n",
      "404/404 [==============================] - 6s 15ms/step - loss: 518.9628 - mae: 20.7870\n",
      "Epoch 7/10\n",
      "404/404 [==============================] - 6s 15ms/step - loss: 504.1993 - mae: 20.4301\n",
      "Epoch 8/10\n",
      "404/404 [==============================] - 6s 15ms/step - loss: 489.7731 - mae: 20.0704\n",
      "Epoch 9/10\n",
      "404/404 [==============================] - 5s 14ms/step - loss: 475.7064 - mae: 19.7170\n",
      "Epoch 10/10\n",
      "404/404 [==============================] - 4s 9ms/step - loss: 461.9511 - mae: 19.3633\n",
      "MSE deep network: 393.10\n"
     ]
    },
    {
     "data": {
      "text/plain": [
       "Text(0.5, 1.0, 'Boston Housing True vs Predicted prices')"
      ]
     },
     "execution_count": 41,
     "metadata": {},
     "output_type": "execute_result"
    },
    {
     "data": {
      "image/png": "[encoded data removed]",
      "text/plain": [
       "<Figure size 432x288 with 1 Axes>"
      ]
     },
     "metadata": {
      "needs_background": "light"
     },
     "output_type": "display_data"
    }
   ],
   "source": [
    "def deep_model():\n",
    "\t# Add layers in given order\n",
    "    model = Sequential()\n",
    "    model.add(Dense(13, input_shape=(Xtrain.shape[1],), activation='relu'))\n",
    "    model.add(Dense(128, activation='relu'))\n",
    "    model.add(Dense(128, activation='relu'))\n",
    "    model.add(Dense(128, activation='relu'))\n",
    "    model.add(Dense(128, activation='relu'))\n",
    "    model.add(Dense(128, activation='relu'))\n",
    "    model.add(Dense(1, activation='relu'))\n",
    "    model.add(Dense(1))\n",
    "    # Compile model\n",
    "    model.compile(loss='mean_squared_error', optimizer='adam', metrics=['mae'])\n",
    "    return model\n",
    "\n",
    "\n",
    "ne = 10 #number of train loops\n",
    "\n",
    "model = deep_model()\n",
    "model.fit(Xtrain, ytrain, epochs=ne, batch_size=1, verbose=1)\n",
    "#see performance on test data using trained model\n",
    "y_nn = model.predict(Xtest)\n",
    "\n",
    "#Calculate error and plot\n",
    "mse = mean_squared_error(ytest, y_nn)\n",
    "print(\"MSE deep network: %.2f\" % mse)\n",
    "\n",
    "#compare labels\n",
    "plt.scatter(ytest, y_model)\n",
    "plt.xlabel(\"Truth\")\n",
    "plt.ylabel(\"Predicted\")\n",
    "plt.title(\"Boston Housing True vs Predicted prices\")"
   ]
  },
  {
   "cell_type": "code",
   "execution_count": 33,
   "metadata": {},
   "outputs": [
    {
     "name": "stdout",
     "output_type": "stream",
     "text": [
      "Epoch 1/10\n",
      "404/404 [==============================] - 2s 4ms/step - loss: 377.5724 - mae: 17.3909\n",
      "Epoch 2/10\n",
      "404/404 [==============================] - 1s 2ms/step - loss: 107.3506 - mae: 7.9163\n",
      "Epoch 3/10\n",
      "404/404 [==============================] - 1s 2ms/step - loss: 39.7412 - mae: 4.5392\n",
      "Epoch 4/10\n",
      "404/404 [==============================] - 1s 2ms/step - loss: 29.9578 - mae: 3.9566\n",
      "Epoch 5/10\n",
      "404/404 [==============================] - 1s 3ms/step - loss: 25.2395 - mae: 3.6679\n",
      "Epoch 6/10\n",
      "404/404 [==============================] - 1s 3ms/step - loss: 22.1921 - mae: 3.4469\n",
      "Epoch 7/10\n",
      "404/404 [==============================] - 1s 3ms/step - loss: 19.8906 - mae: 3.2636\n",
      "Epoch 8/10\n",
      "404/404 [==============================] - 1s 3ms/step - loss: 18.5280 - mae: 3.1984\n",
      "Epoch 9/10\n",
      "404/404 [==============================] - 1s 3ms/step - loss: 16.7815 - mae: 2.9807\n",
      "Epoch 10/10\n",
      "404/404 [==============================] - 1s 3ms/step - loss: 15.7280 - mae: 2.9223\n",
      "MSE wide network: 16.48\n"
     ]
    },
    {
     "data": {
      "text/plain": [
       "Text(0.5, 1.0, 'Boston Housing True vs Predicted prices')"
      ]
     },
     "execution_count": 33,
     "metadata": {},
     "output_type": "execute_result"
    },
    {
     "data": {
      "image/png": "[encoded data removed]",
      "text/plain": [
       "<Figure size 432x288 with 1 Axes>"
      ]
     },
     "metadata": {
      "needs_background": "light"
     },
     "output_type": "display_data"
    }
   ],
   "source": [
    "def wide_model():\n",
    "\t# Add layers in given order\n",
    "    model = Sequential()\n",
    "    model.add(Dense(30, input_shape=(Xtrain.shape[1],), activation='relu'))\n",
    "    model.add(Dense(1, activation='relu'))\n",
    "    model.add(Dense(1))\n",
    "    # Compile model\n",
    "    model.compile(loss='mean_squared_error', optimizer='adam', metrics=['mae'])\n",
    "    return model\n",
    "\n",
    "\n",
    "ne = 10 #number of train loops\n",
    "\n",
    "model = wide_model()\n",
    "model.fit(Xtrain, ytrain, epochs=ne, batch_size=1, verbose=1)\n",
    "#see performance on test data using trained model\n",
    "y_nn = model.predict(Xtest)\n",
    "\n",
    "#Calculate error and plot\n",
    "mse = mean_squared_error(ytest, y_nn)\n",
    "print(\"MSE wide network: %.2f\" % mse)\n",
    "\n",
    "#compare labels\n",
    "plt.scatter(ytest, y_model)\n",
    "plt.xlabel(\"Truth\")\n",
    "plt.ylabel(\"Predicted\")\n",
    "plt.title(\"Boston Housing True vs Predicted prices\")"
   ]
  },
  {
   "cell_type": "code",
   "execution_count": null,
   "metadata": {},
   "outputs": [],
   "source": []
  }
 ],
 "metadata": {
  "kernelspec": {
   "display_name": "Python 3",
   "language": "python",
   "name": "python3"
  },
  "language_info": {
   "codemirror_mode": {
    "name": "ipython",
    "version": 3
   },
   "file_extension": ".py",
   "mimetype": "text/x-python",
   "name": "python",
   "nbconvert_exporter": "python",
   "pygments_lexer": "ipython3",
   "version": "3.6.10"
  }
 },
 "nbformat": 4,
 "nbformat_minor": 2
}
